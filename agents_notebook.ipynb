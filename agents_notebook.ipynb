{
  "nbformat": 4,
  "nbformat_minor": 0,
  "metadata": {
    "colab": {
      "provenance": []
    },
    "kernelspec": {
      "name": "python3",
      "display_name": "Python 3"
    },
    "language_info": {
      "name": "python"
    },
    "widgets": {
      "application/vnd.jupyter.widget-state+json": {
        "ea65685dadc543f2b391ba5906a43eb1": {
          "model_module": "@jupyter-widgets/controls",
          "model_name": "HBoxModel",
          "model_module_version": "1.5.0",
          "state": {
            "_dom_classes": [],
            "_model_module": "@jupyter-widgets/controls",
            "_model_module_version": "1.5.0",
            "_model_name": "HBoxModel",
            "_view_count": null,
            "_view_module": "@jupyter-widgets/controls",
            "_view_module_version": "1.5.0",
            "_view_name": "HBoxView",
            "box_style": "",
            "children": [
              "IPY_MODEL_318f1bef1eb54dd7a1b194520f5941ab",
              "IPY_MODEL_c1699d84d4ec49aaaca74f30d178c5ba",
              "IPY_MODEL_01610e9d54f04f4d98e30dfc647493d6"
            ],
            "layout": "IPY_MODEL_081f657962a94436b3e269f88009efc0"
          }
        },
        "318f1bef1eb54dd7a1b194520f5941ab": {
          "model_module": "@jupyter-widgets/controls",
          "model_name": "HTMLModel",
          "model_module_version": "1.5.0",
          "state": {
            "_dom_classes": [],
            "_model_module": "@jupyter-widgets/controls",
            "_model_module_version": "1.5.0",
            "_model_name": "HTMLModel",
            "_view_count": null,
            "_view_module": "@jupyter-widgets/controls",
            "_view_module_version": "1.5.0",
            "_view_name": "HTMLView",
            "description": "",
            "description_tooltip": null,
            "layout": "IPY_MODEL_5db8a51877ae4f9684379ae932def471",
            "placeholder": "​",
            "style": "IPY_MODEL_992ac78205514da8832b86db5c5cb6e6",
            "value": "Updating BM25 representation...: 100%"
          }
        },
        "c1699d84d4ec49aaaca74f30d178c5ba": {
          "model_module": "@jupyter-widgets/controls",
          "model_name": "FloatProgressModel",
          "model_module_version": "1.5.0",
          "state": {
            "_dom_classes": [],
            "_model_module": "@jupyter-widgets/controls",
            "_model_module_version": "1.5.0",
            "_model_name": "FloatProgressModel",
            "_view_count": null,
            "_view_module": "@jupyter-widgets/controls",
            "_view_module_version": "1.5.0",
            "_view_name": "ProgressView",
            "bar_style": "success",
            "description": "",
            "description_tooltip": null,
            "layout": "IPY_MODEL_463de183c52443acba92349f1adafc08",
            "max": 1,
            "min": 0,
            "orientation": "horizontal",
            "style": "IPY_MODEL_57045d09c3a64fd989d99c7e3159550f",
            "value": 1
          }
        },
        "01610e9d54f04f4d98e30dfc647493d6": {
          "model_module": "@jupyter-widgets/controls",
          "model_name": "HTMLModel",
          "model_module_version": "1.5.0",
          "state": {
            "_dom_classes": [],
            "_model_module": "@jupyter-widgets/controls",
            "_model_module_version": "1.5.0",
            "_model_name": "HTMLModel",
            "_view_count": null,
            "_view_module": "@jupyter-widgets/controls",
            "_view_module_version": "1.5.0",
            "_view_name": "HTMLView",
            "description": "",
            "description_tooltip": null,
            "layout": "IPY_MODEL_9ec61512ea43421988399f1f2805df01",
            "placeholder": "​",
            "style": "IPY_MODEL_23c5b06f195441d497481b7228fef3e3",
            "value": " 1/1 [00:00&lt;00:00, 40.03 docs/s]"
          }
        },
        "081f657962a94436b3e269f88009efc0": {
          "model_module": "@jupyter-widgets/base",
          "model_name": "LayoutModel",
          "model_module_version": "1.2.0",
          "state": {
            "_model_module": "@jupyter-widgets/base",
            "_model_module_version": "1.2.0",
            "_model_name": "LayoutModel",
            "_view_count": null,
            "_view_module": "@jupyter-widgets/base",
            "_view_module_version": "1.2.0",
            "_view_name": "LayoutView",
            "align_content": null,
            "align_items": null,
            "align_self": null,
            "border": null,
            "bottom": null,
            "display": null,
            "flex": null,
            "flex_flow": null,
            "grid_area": null,
            "grid_auto_columns": null,
            "grid_auto_flow": null,
            "grid_auto_rows": null,
            "grid_column": null,
            "grid_gap": null,
            "grid_row": null,
            "grid_template_areas": null,
            "grid_template_columns": null,
            "grid_template_rows": null,
            "height": null,
            "justify_content": null,
            "justify_items": null,
            "left": null,
            "margin": null,
            "max_height": null,
            "max_width": null,
            "min_height": null,
            "min_width": null,
            "object_fit": null,
            "object_position": null,
            "order": null,
            "overflow": null,
            "overflow_x": null,
            "overflow_y": null,
            "padding": null,
            "right": null,
            "top": null,
            "visibility": null,
            "width": null
          }
        },
        "5db8a51877ae4f9684379ae932def471": {
          "model_module": "@jupyter-widgets/base",
          "model_name": "LayoutModel",
          "model_module_version": "1.2.0",
          "state": {
            "_model_module": "@jupyter-widgets/base",
            "_model_module_version": "1.2.0",
            "_model_name": "LayoutModel",
            "_view_count": null,
            "_view_module": "@jupyter-widgets/base",
            "_view_module_version": "1.2.0",
            "_view_name": "LayoutView",
            "align_content": null,
            "align_items": null,
            "align_self": null,
            "border": null,
            "bottom": null,
            "display": null,
            "flex": null,
            "flex_flow": null,
            "grid_area": null,
            "grid_auto_columns": null,
            "grid_auto_flow": null,
            "grid_auto_rows": null,
            "grid_column": null,
            "grid_gap": null,
            "grid_row": null,
            "grid_template_areas": null,
            "grid_template_columns": null,
            "grid_template_rows": null,
            "height": null,
            "justify_content": null,
            "justify_items": null,
            "left": null,
            "margin": null,
            "max_height": null,
            "max_width": null,
            "min_height": null,
            "min_width": null,
            "object_fit": null,
            "object_position": null,
            "order": null,
            "overflow": null,
            "overflow_x": null,
            "overflow_y": null,
            "padding": null,
            "right": null,
            "top": null,
            "visibility": null,
            "width": null
          }
        },
        "992ac78205514da8832b86db5c5cb6e6": {
          "model_module": "@jupyter-widgets/controls",
          "model_name": "DescriptionStyleModel",
          "model_module_version": "1.5.0",
          "state": {
            "_model_module": "@jupyter-widgets/controls",
            "_model_module_version": "1.5.0",
            "_model_name": "DescriptionStyleModel",
            "_view_count": null,
            "_view_module": "@jupyter-widgets/base",
            "_view_module_version": "1.2.0",
            "_view_name": "StyleView",
            "description_width": ""
          }
        },
        "463de183c52443acba92349f1adafc08": {
          "model_module": "@jupyter-widgets/base",
          "model_name": "LayoutModel",
          "model_module_version": "1.2.0",
          "state": {
            "_model_module": "@jupyter-widgets/base",
            "_model_module_version": "1.2.0",
            "_model_name": "LayoutModel",
            "_view_count": null,
            "_view_module": "@jupyter-widgets/base",
            "_view_module_version": "1.2.0",
            "_view_name": "LayoutView",
            "align_content": null,
            "align_items": null,
            "align_self": null,
            "border": null,
            "bottom": null,
            "display": null,
            "flex": null,
            "flex_flow": null,
            "grid_area": null,
            "grid_auto_columns": null,
            "grid_auto_flow": null,
            "grid_auto_rows": null,
            "grid_column": null,
            "grid_gap": null,
            "grid_row": null,
            "grid_template_areas": null,
            "grid_template_columns": null,
            "grid_template_rows": null,
            "height": null,
            "justify_content": null,
            "justify_items": null,
            "left": null,
            "margin": null,
            "max_height": null,
            "max_width": null,
            "min_height": null,
            "min_width": null,
            "object_fit": null,
            "object_position": null,
            "order": null,
            "overflow": null,
            "overflow_x": null,
            "overflow_y": null,
            "padding": null,
            "right": null,
            "top": null,
            "visibility": null,
            "width": null
          }
        },
        "57045d09c3a64fd989d99c7e3159550f": {
          "model_module": "@jupyter-widgets/controls",
          "model_name": "ProgressStyleModel",
          "model_module_version": "1.5.0",
          "state": {
            "_model_module": "@jupyter-widgets/controls",
            "_model_module_version": "1.5.0",
            "_model_name": "ProgressStyleModel",
            "_view_count": null,
            "_view_module": "@jupyter-widgets/base",
            "_view_module_version": "1.2.0",
            "_view_name": "StyleView",
            "bar_color": null,
            "description_width": ""
          }
        },
        "9ec61512ea43421988399f1f2805df01": {
          "model_module": "@jupyter-widgets/base",
          "model_name": "LayoutModel",
          "model_module_version": "1.2.0",
          "state": {
            "_model_module": "@jupyter-widgets/base",
            "_model_module_version": "1.2.0",
            "_model_name": "LayoutModel",
            "_view_count": null,
            "_view_module": "@jupyter-widgets/base",
            "_view_module_version": "1.2.0",
            "_view_name": "LayoutView",
            "align_content": null,
            "align_items": null,
            "align_self": null,
            "border": null,
            "bottom": null,
            "display": null,
            "flex": null,
            "flex_flow": null,
            "grid_area": null,
            "grid_auto_columns": null,
            "grid_auto_flow": null,
            "grid_auto_rows": null,
            "grid_column": null,
            "grid_gap": null,
            "grid_row": null,
            "grid_template_areas": null,
            "grid_template_columns": null,
            "grid_template_rows": null,
            "height": null,
            "justify_content": null,
            "justify_items": null,
            "left": null,
            "margin": null,
            "max_height": null,
            "max_width": null,
            "min_height": null,
            "min_width": null,
            "object_fit": null,
            "object_position": null,
            "order": null,
            "overflow": null,
            "overflow_x": null,
            "overflow_y": null,
            "padding": null,
            "right": null,
            "top": null,
            "visibility": null,
            "width": null
          }
        },
        "23c5b06f195441d497481b7228fef3e3": {
          "model_module": "@jupyter-widgets/controls",
          "model_name": "DescriptionStyleModel",
          "model_module_version": "1.5.0",
          "state": {
            "_model_module": "@jupyter-widgets/controls",
            "_model_module_version": "1.5.0",
            "_model_name": "DescriptionStyleModel",
            "_view_count": null,
            "_view_module": "@jupyter-widgets/base",
            "_view_module_version": "1.2.0",
            "_view_name": "StyleView",
            "description_width": ""
          }
        }
      }
    }
  },
  "cells": [
    {
      "cell_type": "markdown",
      "source": [
        "## Installation and API keys"
      ],
      "metadata": {
        "id": "ZP6FOYHmvo97"
      }
    },
    {
      "cell_type": "code",
      "execution_count": null,
      "metadata": {
        "id": "HHawRRSivZD7"
      },
      "outputs": [],
      "source": [
        "! pip install farm-haystack==1.15.0"
      ]
    },
    {
      "cell_type": "code",
      "source": [
        "# get your free serperdev key at https://serper.dev/\n",
        "SERPERDEV_API_KEY='SERPERDEV-API-KEY'\n",
        "OPENAI_API_KEY='OPENAI-API-KEY'"
      ],
      "metadata": {
        "id": "bhPDsGnRveW7"
      },
      "execution_count": 2,
      "outputs": []
    },
    {
      "cell_type": "markdown",
      "source": [
        "## Imports"
      ],
      "metadata": {
        "id": "P65aFu3jRKga"
      }
    },
    {
      "cell_type": "code",
      "source": [
        "from haystack import Document, Pipeline\n",
        "from haystack.utils import print_answers\n",
        "from haystack.document_stores import InMemoryDocumentStore\n",
        "from haystack.nodes import PromptNode, TableReader, BM25Retriever\n",
        "from haystack.nodes.retriever.web import WebRetriever\n",
        "from haystack.pipelines import WebQAPipeline, ExtractiveQAPipeline\n",
        "from haystack.agents import Agent, Tool\n",
        "import pandas as pd"
      ],
      "metadata": {
        "id": "Sd1HCPzxRH51"
      },
      "execution_count": 8,
      "outputs": []
    },
    {
      "cell_type": "markdown",
      "source": [
        "## Import my reading list 📚"
      ],
      "metadata": {
        "id": "6CK-DZDNRlis"
      }
    },
    {
      "cell_type": "code",
      "source": [
        "reading_list = pd.read_csv('reading_list.csv')\n",
        "reading_list"
      ],
      "metadata": {
        "colab": {
          "base_uri": "https://localhost:8080/",
          "height": 394
        },
        "id": "5eEAo98SRfY6",
        "outputId": "73c549d5-0824-420a-d23d-90a0b58d8a2b"
      },
      "execution_count": 6,
      "outputs": [
        {
          "output_type": "execute_result",
          "data": {
            "text/plain": [
              "                                    title  pages             topic\n",
              "0                               Deep work    306   personal growth\n",
              "1    The Hitchhiker's Guide to the Galaxy    210           fiction\n",
              "2   Sapiens: A Brief History of Humankind    464           history\n",
              "3                           Atomic Habits    320   personal growth\n",
              "4                           The Alchemist    208           fiction\n",
              "5                     The Phoenix Project    432  computer science\n",
              "6                             The Martian    388           fiction\n",
              "7     The Subtle Art of Not Giving a F*ck    224   personal growth\n",
              "8                        Ready Player One    384           fiction\n",
              "9         How to Avoid a Climate Disaster    272           science\n",
              "10                        Brave New World    288           fiction"
            ],
            "text/html": [
              "\n",
              "  <div id=\"df-f8c75d2f-e4c7-447c-b67a-a08955e6748b\">\n",
              "    <div class=\"colab-df-container\">\n",
              "      <div>\n",
              "<style scoped>\n",
              "    .dataframe tbody tr th:only-of-type {\n",
              "        vertical-align: middle;\n",
              "    }\n",
              "\n",
              "    .dataframe tbody tr th {\n",
              "        vertical-align: top;\n",
              "    }\n",
              "\n",
              "    .dataframe thead th {\n",
              "        text-align: right;\n",
              "    }\n",
              "</style>\n",
              "<table border=\"1\" class=\"dataframe\">\n",
              "  <thead>\n",
              "    <tr style=\"text-align: right;\">\n",
              "      <th></th>\n",
              "      <th>title</th>\n",
              "      <th>pages</th>\n",
              "      <th>topic</th>\n",
              "    </tr>\n",
              "  </thead>\n",
              "  <tbody>\n",
              "    <tr>\n",
              "      <th>0</th>\n",
              "      <td>Deep work</td>\n",
              "      <td>306</td>\n",
              "      <td>personal growth</td>\n",
              "    </tr>\n",
              "    <tr>\n",
              "      <th>1</th>\n",
              "      <td>The Hitchhiker's Guide to the Galaxy</td>\n",
              "      <td>210</td>\n",
              "      <td>fiction</td>\n",
              "    </tr>\n",
              "    <tr>\n",
              "      <th>2</th>\n",
              "      <td>Sapiens: A Brief History of Humankind</td>\n",
              "      <td>464</td>\n",
              "      <td>history</td>\n",
              "    </tr>\n",
              "    <tr>\n",
              "      <th>3</th>\n",
              "      <td>Atomic Habits</td>\n",
              "      <td>320</td>\n",
              "      <td>personal growth</td>\n",
              "    </tr>\n",
              "    <tr>\n",
              "      <th>4</th>\n",
              "      <td>The Alchemist</td>\n",
              "      <td>208</td>\n",
              "      <td>fiction</td>\n",
              "    </tr>\n",
              "    <tr>\n",
              "      <th>5</th>\n",
              "      <td>The Phoenix Project</td>\n",
              "      <td>432</td>\n",
              "      <td>computer science</td>\n",
              "    </tr>\n",
              "    <tr>\n",
              "      <th>6</th>\n",
              "      <td>The Martian</td>\n",
              "      <td>388</td>\n",
              "      <td>fiction</td>\n",
              "    </tr>\n",
              "    <tr>\n",
              "      <th>7</th>\n",
              "      <td>The Subtle Art of Not Giving a F*ck</td>\n",
              "      <td>224</td>\n",
              "      <td>personal growth</td>\n",
              "    </tr>\n",
              "    <tr>\n",
              "      <th>8</th>\n",
              "      <td>Ready Player One</td>\n",
              "      <td>384</td>\n",
              "      <td>fiction</td>\n",
              "    </tr>\n",
              "    <tr>\n",
              "      <th>9</th>\n",
              "      <td>How to Avoid a Climate Disaster</td>\n",
              "      <td>272</td>\n",
              "      <td>science</td>\n",
              "    </tr>\n",
              "    <tr>\n",
              "      <th>10</th>\n",
              "      <td>Brave New World</td>\n",
              "      <td>288</td>\n",
              "      <td>fiction</td>\n",
              "    </tr>\n",
              "  </tbody>\n",
              "</table>\n",
              "</div>\n",
              "      <button class=\"colab-df-convert\" onclick=\"convertToInteractive('df-f8c75d2f-e4c7-447c-b67a-a08955e6748b')\"\n",
              "              title=\"Convert this dataframe to an interactive table.\"\n",
              "              style=\"display:none;\">\n",
              "        \n",
              "  <svg xmlns=\"http://www.w3.org/2000/svg\" height=\"24px\"viewBox=\"0 0 24 24\"\n",
              "       width=\"24px\">\n",
              "    <path d=\"M0 0h24v24H0V0z\" fill=\"none\"/>\n",
              "    <path d=\"M18.56 5.44l.94 2.06.94-2.06 2.06-.94-2.06-.94-.94-2.06-.94 2.06-2.06.94zm-11 1L8.5 8.5l.94-2.06 2.06-.94-2.06-.94L8.5 2.5l-.94 2.06-2.06.94zm10 10l.94 2.06.94-2.06 2.06-.94-2.06-.94-.94-2.06-.94 2.06-2.06.94z\"/><path d=\"M17.41 7.96l-1.37-1.37c-.4-.4-.92-.59-1.43-.59-.52 0-1.04.2-1.43.59L10.3 9.45l-7.72 7.72c-.78.78-.78 2.05 0 2.83L4 21.41c.39.39.9.59 1.41.59.51 0 1.02-.2 1.41-.59l7.78-7.78 2.81-2.81c.8-.78.8-2.07 0-2.86zM5.41 20L4 18.59l7.72-7.72 1.47 1.35L5.41 20z\"/>\n",
              "  </svg>\n",
              "      </button>\n",
              "      \n",
              "  <style>\n",
              "    .colab-df-container {\n",
              "      display:flex;\n",
              "      flex-wrap:wrap;\n",
              "      gap: 12px;\n",
              "    }\n",
              "\n",
              "    .colab-df-convert {\n",
              "      background-color: #E8F0FE;\n",
              "      border: none;\n",
              "      border-radius: 50%;\n",
              "      cursor: pointer;\n",
              "      display: none;\n",
              "      fill: #1967D2;\n",
              "      height: 32px;\n",
              "      padding: 0 0 0 0;\n",
              "      width: 32px;\n",
              "    }\n",
              "\n",
              "    .colab-df-convert:hover {\n",
              "      background-color: #E2EBFA;\n",
              "      box-shadow: 0px 1px 2px rgba(60, 64, 67, 0.3), 0px 1px 3px 1px rgba(60, 64, 67, 0.15);\n",
              "      fill: #174EA6;\n",
              "    }\n",
              "\n",
              "    [theme=dark] .colab-df-convert {\n",
              "      background-color: #3B4455;\n",
              "      fill: #D2E3FC;\n",
              "    }\n",
              "\n",
              "    [theme=dark] .colab-df-convert:hover {\n",
              "      background-color: #434B5C;\n",
              "      box-shadow: 0px 1px 3px 1px rgba(0, 0, 0, 0.15);\n",
              "      filter: drop-shadow(0px 1px 2px rgba(0, 0, 0, 0.3));\n",
              "      fill: #FFFFFF;\n",
              "    }\n",
              "  </style>\n",
              "\n",
              "      <script>\n",
              "        const buttonEl =\n",
              "          document.querySelector('#df-f8c75d2f-e4c7-447c-b67a-a08955e6748b button.colab-df-convert');\n",
              "        buttonEl.style.display =\n",
              "          google.colab.kernel.accessAllowed ? 'block' : 'none';\n",
              "\n",
              "        async function convertToInteractive(key) {\n",
              "          const element = document.querySelector('#df-f8c75d2f-e4c7-447c-b67a-a08955e6748b');\n",
              "          const dataTable =\n",
              "            await google.colab.kernel.invokeFunction('convertToInteractive',\n",
              "                                                     [key], {});\n",
              "          if (!dataTable) return;\n",
              "\n",
              "          const docLinkHtml = 'Like what you see? Visit the ' +\n",
              "            '<a target=\"_blank\" href=https://colab.research.google.com/notebooks/data_table.ipynb>data table notebook</a>'\n",
              "            + ' to learn more about interactive tables.';\n",
              "          element.innerHTML = '';\n",
              "          dataTable['output_type'] = 'display_data';\n",
              "          await google.colab.output.renderOutput(dataTable, element);\n",
              "          const docLink = document.createElement('div');\n",
              "          docLink.innerHTML = docLinkHtml;\n",
              "          element.appendChild(docLink);\n",
              "        }\n",
              "      </script>\n",
              "    </div>\n",
              "  </div>\n",
              "  "
            ]
          },
          "metadata": {},
          "execution_count": 6
        }
      ]
    },
    {
      "cell_type": "markdown",
      "source": [
        "## Pipeline for Question Answering on my reading list 📚"
      ],
      "metadata": {
        "id": "QZvbWjCFR6I1"
      }
    },
    {
      "cell_type": "code",
      "source": [
        "imds = InMemoryDocumentStore(use_bm25=True)\n",
        "\n",
        "imds.write_documents([Document(content=reading_list, content_type='table')])\n",
        "\n",
        "table_qa_pipeline = ExtractiveQAPipeline(TableReader(), BM25Retriever(imds))\n",
        "\n",
        "# little test\n",
        "res=table_qa_pipeline.run(query=\"What is the longest book?\")\n",
        "print_answers(res, details='minimum')"
      ],
      "metadata": {
        "colab": {
          "base_uri": "https://localhost:8080/",
          "height": 380,
          "referenced_widgets": [
            "ea65685dadc543f2b391ba5906a43eb1",
            "318f1bef1eb54dd7a1b194520f5941ab",
            "c1699d84d4ec49aaaca74f30d178c5ba",
            "01610e9d54f04f4d98e30dfc647493d6",
            "081f657962a94436b3e269f88009efc0",
            "5db8a51877ae4f9684379ae932def471",
            "992ac78205514da8832b86db5c5cb6e6",
            "463de183c52443acba92349f1adafc08",
            "57045d09c3a64fd989d99c7e3159550f",
            "9ec61512ea43421988399f1f2805df01",
            "23c5b06f195441d497481b7228fef3e3"
          ]
        },
        "id": "eMZsgT3pR0CH",
        "outputId": "08705efc-f19c-46ea-d06d-5ade63bd70c6"
      },
      "execution_count": 11,
      "outputs": [
        {
          "output_type": "display_data",
          "data": {
            "text/plain": [
              "Updating BM25 representation...:   0%|          | 0/1 [00:00<?, ? docs/s]"
            ],
            "application/vnd.jupyter.widget-view+json": {
              "version_major": 2,
              "version_minor": 0,
              "model_id": "ea65685dadc543f2b391ba5906a43eb1"
            }
          },
          "metadata": {}
        },
        {
          "output_type": "stream",
          "name": "stderr",
          "text": [
            "/usr/local/lib/python3.9/dist-packages/torch/_utils.py:776: UserWarning: TypedStorage is deprecated. It will be removed in the future and UntypedStorage will be the only storage class. This should only matter to you if you are using storages directly.  To access UntypedStorage directly, use tensor.untyped_storage() instead of tensor.storage()\n",
            "  return self.fget.__get__(instance, owner)()\n"
          ]
        },
        {
          "output_type": "stream",
          "name": "stdout",
          "text": [
            "'Query: What is the longest book?'\n",
            "'Answers:'\n",
            "[   {   'answer': 'Sapiens: A Brief History of Humankind',\n",
            "        'context':                                     title pages             topic\n",
            "0                               Deep work   306   personal growth\n",
            "1    The Hitchhiker's Guide to the Galaxy   210           fiction\n",
            "2   Sapiens: A Brief History of Humankind   464           history\n",
            "3                           Atomic Habits   320   personal growth\n",
            "4                           The Alchemist   208           fiction\n",
            "5                     The Phoenix Project   432  computer science\n",
            "6                             The Martian   388           fiction\n",
            "7     The Subtle Art of Not Giving a F*ck   224   personal growth\n",
            "8                        Ready Player One   384           fiction\n",
            "9         How to Avoid a Climate Disaster   272           science\n",
            "10                        Brave New World   288           fiction}]\n"
          ]
        }
      ]
    },
    {
      "cell_type": "markdown",
      "source": [
        "## Create a pipeline for Question Answering on the web 🔎🌐"
      ],
      "metadata": {
        "id": "VqRIjwYCSpac"
      }
    },
    {
      "cell_type": "code",
      "source": [
        "web_retriever = WebRetriever(api_key=SERPERDEV_API_KEY)\n",
        "\n",
        "pn = PromptNode('text-davinci-003',\n",
        "                api_key=OPENAI_API_KEY,\n",
        "                max_length=256,\n",
        "                default_prompt_template='question-answering-with-document-scores')\n",
        "\n",
        "web_qa_pipeline = WebQAPipeline(retriever=web_retriever, prompt_node=pn)\n",
        "\n",
        "# little test\n",
        "res=web_qa_pipeline.run(query=\"When was William Shakespeare born?\")\n",
        "print_answers(res, details='minimum')"
      ],
      "metadata": {
        "colab": {
          "base_uri": "https://localhost:8080/"
        },
        "id": "IMmXdXGsSKFO",
        "outputId": "a03f7c0c-b45d-4a94-e903-71909b1ddbd9"
      },
      "execution_count": 14,
      "outputs": [
        {
          "output_type": "stream",
          "name": "stdout",
          "text": [
            "'Query: When was William Shakespeare born?'\n",
            "'Answers:'\n",
            "[{'answer': 'April 23, 1564'}]\n"
          ]
        }
      ]
    },
    {
      "cell_type": "markdown",
      "source": [
        "## Initialize our brain 🧠 : the PromptNode"
      ],
      "metadata": {
        "id": "dVlIMJ8aXHah"
      }
    },
    {
      "cell_type": "code",
      "source": [
        "brain = PromptNode('text-davinci-003',\n",
        "                  api_key=OPENAI_API_KEY,\n",
        "                  max_length=512,\n",
        "                  stop_words=['Observation:'])"
      ],
      "metadata": {
        "id": "8PXyqtrPSx9B"
      },
      "execution_count": 15,
      "outputs": []
    },
    {
      "cell_type": "markdown",
      "source": [
        "## Use the pipelines as tools 🛠️"
      ],
      "metadata": {
        "id": "yjKFAYgpXQPb"
      }
    },
    {
      "cell_type": "code",
      "source": [
        "reading_list_qa = Tool(name='Reading_list_QA',\n",
        "                      pipeline_or_node=table_qa_pipeline,\n",
        "                      description='useful for when you need to answer questions about the books in my reading list',\n",
        "                      output_variable='answers')\n",
        "\n",
        "web_qa = Tool(name='Search',\n",
        "              pipeline_or_node=web_qa_pipeline,\n",
        "              description='useful for when you need to Google questions.',\n",
        "              output_variable='results')"
      ],
      "metadata": {
        "id": "hEIsDxfZXOLQ"
      },
      "execution_count": 16,
      "outputs": []
    },
    {
      "cell_type": "markdown",
      "source": [
        "## Finally the Agent 🕵️ !"
      ],
      "metadata": {
        "id": "7WfOO7V_YeLU"
      }
    },
    {
      "cell_type": "code",
      "source": [
        "agent = Agent(prompt_node=brain, tools=[reading_list_qa, web_qa])\n",
        "\n",
        "result = agent.run(query='Can you provide me with information about the shortest book on my reading list, including author and price on Amazon?')"
      ],
      "metadata": {
        "colab": {
          "base_uri": "https://localhost:8080/"
        },
        "id": "moo6Po56YX-O",
        "outputId": "5208fe4f-05c6-48d8-fa53-75e82e270442"
      },
      "execution_count": 19,
      "outputs": [
        {
          "output_type": "stream",
          "name": "stdout",
          "text": [
            "\n",
            "Agent zero-shot-react started with {'query': 'Can you provide me with information about the shortest book on my reading list, including author and price on Amazon?', 'params': None}\n",
            "\u001b[32m find\u001b[0m\u001b[32m out\u001b[0m\u001b[32m the\u001b[0m\u001b[32m title\u001b[0m\u001b[32m of\u001b[0m\u001b[32m the\u001b[0m\u001b[32m shortest\u001b[0m\u001b[32m book\u001b[0m\u001b[32m.\u001b[0m\u001b[32m\n",
            "\u001b[0m\u001b[32mTool\u001b[0m\u001b[32m:\u001b[0m\u001b[32m Reading\u001b[0m\u001b[32m_\u001b[0m\u001b[32mlist\u001b[0m\u001b[32m_\u001b[0m\u001b[32mQ\u001b[0m\u001b[32mA\u001b[0m\u001b[32m\n",
            "\u001b[0m\u001b[32mTool\u001b[0m\u001b[32m Input\u001b[0m\u001b[32m:\u001b[0m\u001b[32m Short\u001b[0m\u001b[32mest\u001b[0m\u001b[32m book\u001b[0m\u001b[32m\n",
            "\u001b[0mObservation: \u001b[33mThe Alchemist\u001b[0m\n",
            "Thought: \u001b[32m Now\u001b[0m\u001b[32m that\u001b[0m\u001b[32m I\u001b[0m\u001b[32m have\u001b[0m\u001b[32m the\u001b[0m\u001b[32m title\u001b[0m\u001b[32m of\u001b[0m\u001b[32m the\u001b[0m\u001b[32m book\u001b[0m\u001b[32m,\u001b[0m\u001b[32m I\u001b[0m\u001b[32m'll\u001b[0m\u001b[32m need\u001b[0m\u001b[32m to\u001b[0m\u001b[32m find\u001b[0m\u001b[32m out\u001b[0m\u001b[32m the\u001b[0m\u001b[32m author\u001b[0m\u001b[32m and\u001b[0m\u001b[32m price\u001b[0m\u001b[32m on\u001b[0m\u001b[32m Amazon\u001b[0m\u001b[32m.\u001b[0m\u001b[32m\n",
            "\u001b[0m\u001b[32mTool\u001b[0m\u001b[32m:\u001b[0m\u001b[32m Search\u001b[0m\u001b[32m\n",
            "\u001b[0m\u001b[32mTool\u001b[0m\u001b[32m Input\u001b[0m\u001b[32m:\u001b[0m\u001b[32m The\u001b[0m\u001b[32m Alchemist\u001b[0m\u001b[32m author\u001b[0m\u001b[32m and\u001b[0m\u001b[32m price\u001b[0m\u001b[32m on\u001b[0m\u001b[32m Amazon\u001b[0m\u001b[32m\n",
            "\u001b[0m\u001b[32m\n",
            "\u001b[0mObservation: \u001b[33mPaulo Coelho, $14.99\u001b[0m\n",
            "Thought: \u001b[32m I\u001b[0m\u001b[32m have\u001b[0m\u001b[32m all\u001b[0m\u001b[32m the\u001b[0m\u001b[32m information\u001b[0m\u001b[32m I\u001b[0m\u001b[32m need\u001b[0m\u001b[32m.\u001b[0m\u001b[32m\n",
            "\u001b[0m\u001b[32mFinal\u001b[0m\u001b[32m Answer\u001b[0m\u001b[32m:\u001b[0m\u001b[32m Paulo\u001b[0m\u001b[32m Co\u001b[0m\u001b[32mel\u001b[0m\u001b[32mho\u001b[0m\u001b[32m,\u001b[0m\u001b[32m $\u001b[0m\u001b[32m14\u001b[0m\u001b[32m.\u001b[0m\u001b[32m99\u001b[0m"
          ]
        }
      ]
    },
    {
      "cell_type": "code",
      "source": [],
      "metadata": {
        "id": "3IkjoV6WgcV5"
      },
      "execution_count": 19,
      "outputs": []
    },
    {
      "cell_type": "markdown",
      "source": [
        "## More information\n",
        "### Agents in Haystack\n",
        "- [Introducing Agents in Haystack: Make LLMs resolve complex tasks](https://haystack.deepset.ai/blog/introducing-haystack-agents) by Tuana Çelik\n",
        "- [Tutorial: Answering Multihop Questions with Agents](https://haystack.deepset.ai/tutorials/23_answering_multihop_questions_with_agents)\n",
        "- [Haystack documentation: the Agent](https://docs.haystack.deepset.ai/docs/agent)\n",
        "\n",
        "### Papers\n",
        "- [ReAct: Synergizing Reasoning and Acting in Language Models](https://arxiv.org/abs/2210.03629)\n",
        "- [MRKL Systems: A modular, neuro-symbolic architecture that combines large language models, external knowledge sources and discrete reasoning](https://arxiv.org/abs/2205.00445)"
      ],
      "metadata": {
        "id": "9o--d7xHc3hE"
      }
    }
  ]
}